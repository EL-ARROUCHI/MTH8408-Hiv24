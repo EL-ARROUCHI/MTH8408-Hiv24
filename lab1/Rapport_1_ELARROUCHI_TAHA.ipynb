{
 "cells": [
  {
   "cell_type": "markdown",
   "metadata": {},
   "source": [
    "<div style=\"display:flex;\">\n",
    "    <div style=\"text-align:left; font-style:italic; font-family: 'Cambria';\">École Polytechnique de Montréal</div>\n",
    "    <div style=\"text-align:right; font-style:italic; font-family: 'Cambria';\">Hiver 2024</div>\n",
    "</div>\n",
    "<div style=\"display:flex; justify-content:space-between;\">\n",
    "    <div style=\"text-align:left; font-style:italic; font-family: 'Cambria';\">MTH8408</div>\n",
    "    <div style=\"text-align:right; font-style:italic; font-family: 'Cambria';\">Nom Prénom: El Arrouchi Taha</div>\n",
    "</div>\n",
    "<div style=\"text-align:right; font-style:italic; font-family: 'Cambria';\">Matricule: 2194007</div>\n",
    "<br>\n",
    "<div style=\"text-align:center;\">\n",
    "<img src=\"https://upload.wikimedia.org/wikipedia/fr/9/99/Logo_Polytechnique_Montr%C3%A9al.png\" alt=\"Logo de l'école\" style=\"width:260px; height:110px;\">\n",
    "</div>\n",
    "<br>\n",
    "<div style=\" font-weight:bold; font-family: 'Cambria';font-size:28px; text-align:center;\">Rapport N°1: Outils d'optimisation et d'algèbre linéaire\n",
    "numérique </div>"
   ]
  },
  {
   "cell_type": "markdown",
   "metadata": {},
   "source": [
    "## Lab 1\n",
    "###  Basics in Julia\n",
    "- [ ] After reading `notebook_0.ipynb`. Let's write a function that solves the second-order polynomial equation, i.e. `ax² + bx + c = 0`."
   ]
  },
  {
   "cell_type": "code",
   "execution_count": 12,
   "metadata": {},
   "outputs": [
    {
     "name": "stdout",
     "output_type": "stream",
     "text": [
      "Les solutions de l'équation 2x² + 3x + 4 = 0 sont :\n",
      "x₁ = -0.75 + 1.1989578808281798im et x₂ = -0.75 - 1.1989578808281798im\n"
     ]
    }
   ],
   "source": [
    "# Résolution de l'equation: ax² + bx + c = 0\n",
    "# Valeurs d'entrée\n",
    "a=2\n",
    "b=3\n",
    "c=4\n",
    "\n",
    "# Calculer le delta\n",
    "delta = b^2 - 4a*c\n",
    "\n",
    "if delta > 0        # L'équation admet deux solutions réelles distinctes\n",
    "    x1 = (-b + sqrt(delta)) / (2a)\n",
    "    x2 = (-b - sqrt(delta)) / (2a)\n",
    "    println(\"Les solutions de l'équation \", a,\"x² + \", b,\"x + \",c,\" = 0 sont :\")\n",
    "    println(\"x1 = \", x1, \" et x2 = \", x2)\n",
    "elseif delta == 0   # L'équation admet une seule solution réelle double\n",
    "    x = -b / (2a)\n",
    "    println(\"L'équation \", a,\"x² + \", b,\"x + \",c,\" admet une solution réelle double :\")\n",
    "    println(\" x = \", x)\n",
    "elseif delta < 0    # L'équation admet deux solutions complexes distinctes\n",
    "    real_part = -b / (2a)\n",
    "    imaginary_part = sqrt(abs(delta)) / (2a)\n",
    "    x1 = complex(real_part, imaginary_part)\n",
    "    x2 = complex(real_part, -imaginary_part)\n",
    "    println(\"Les solutions de l'équation \", a,\"x² + \", b,\"x + \",c,\" = 0 sont :\")\n",
    "    println(\"x₁ = \", x1, \" et x₂ = \", x2)\n",
    "\n",
    "end"
   ]
  },
  {
   "cell_type": "markdown",
   "metadata": {},
   "source": [
    "- [ ] After reading `notebook_linear_algebra.ipynb`.  Let's write a function verifying that given a matrix `A` is a symmetric positive definite. Add at least 2 test cases."
   ]
  },
  {
   "cell_type": "code",
   "execution_count": 13,
   "metadata": {},
   "outputs": [
    {
     "name": "stdout",
     "output_type": "stream",
     "text": [
      "La matrice A est symétrique définie positive\n"
     ]
    },
    {
     "data": {
      "text/plain": [
       "3×3 Matrix{Int64}:\n",
       " 4  2  8\n",
       " 2  5  6\n",
       " 8  5  3"
      ]
     },
     "metadata": {},
     "output_type": "display_data"
    }
   ],
   "source": [
    "using LinearAlgebra\n",
    "\n",
    "A=[4 2 8; 7 5 6;4 5 6]\n",
    "A=[4 2 8; 2 -2 6;8 6 -3]\n",
    "A=[6 2 1; 2 5 -2; 1 -2 4]\n",
    "if A==transpose(A)  # Vérifier si A est symétrique\n",
    "if isposdef(A)      # Vérifier si A est définie positive\n",
    "    println(\"La matrice A est symétrique définie positive\")\n",
    "else\n",
    "    println(\"La matrice A est symétrique, mais pas définie positive\")\n",
    "end\n",
    "else\n",
    "    println(\"La matrice A n'est pas symétrique définie positive\")\n",
    "end\n",
    "A=[4 2 8; 2 5 6;8 5 3]\n"
   ]
  },
  {
   "cell_type": "markdown",
   "metadata": {},
   "source": [
    "## Optimization\n",
    "- [ ] After reading `notebook_jump.ipynb`. Let's try to solve the 2d test problem `f(x₁,x₂) = 100(x₂ - x₁²)² + (1 - x₁)²` with these tools."
   ]
  },
  {
   "cell_type": "code",
   "execution_count": 14,
   "metadata": {},
   "outputs": [
    {
     "name": "stderr",
     "output_type": "stream",
     "text": [
      "\u001b[32m\u001b[1m   Resolving\u001b[22m\u001b[39m "
     ]
    },
    {
     "name": "stderr",
     "output_type": "stream",
     "text": [
      "package versions...\n"
     ]
    },
    {
     "name": "stderr",
     "output_type": "stream",
     "text": [
      "\u001b[32m\u001b[1m  No Changes\u001b[22m\u001b[39m to `C:\\Users\\Admin\\.julia\\environments\\v1.10\\Project.toml`\n",
      "\u001b[32m\u001b[1m  No Changes\u001b[22m\u001b[39m to `C:\\Users\\Admin\\.julia\\environments\\v1.10\\Manifest.toml`"
     ]
    },
    {
     "name": "stderr",
     "output_type": "stream",
     "text": [
      "\n"
     ]
    },
    {
     "name": "stderr",
     "output_type": "stream",
     "text": [
      "\u001b[32m\u001b[1m   Resolving\u001b[22m\u001b[39m package versions...\n"
     ]
    },
    {
     "name": "stderr",
     "output_type": "stream",
     "text": [
      "\u001b[32m\u001b[1m  No Changes\u001b[22m\u001b[39m to `C:\\Users\\Admin\\.julia\\environments\\v1.10\\Project.toml`\n",
      "\u001b[32m\u001b[1m  No Changes\u001b[22m\u001b[39m to `C:\\Users\\Admin\\.julia\\environments\\v1.10\\Manifest.toml`"
     ]
    },
    {
     "name": "stderr",
     "output_type": "stream",
     "text": [
      "\n"
     ]
    },
    {
     "name": "stderr",
     "output_type": "stream",
     "text": [
      "\u001b[32m\u001b[1m   Resolving\u001b[22m\u001b[39m package versions..."
     ]
    },
    {
     "name": "stderr",
     "output_type": "stream",
     "text": [
      "\n",
      "\u001b[32m\u001b[1m  No Changes\u001b[22m\u001b[39m to `C:\\Users\\Admin\\.julia\\environments\\v1.10\\Project.toml`\n",
      "\u001b[32m\u001b[1m  No Changes\u001b[22m\u001b[39m to `C:\\Users\\Admin\\.julia\\environments\\v1.10\\Manifest.toml`"
     ]
    },
    {
     "name": "stderr",
     "output_type": "stream",
     "text": [
      "\n"
     ]
    },
    {
     "name": "stderr",
     "output_type": "stream",
     "text": [
      "\u001b[32m\u001b[1m   Resolving\u001b[22m\u001b[39m package versions..."
     ]
    },
    {
     "name": "stderr",
     "output_type": "stream",
     "text": [
      "\n",
      "\u001b[32m\u001b[1m  No Changes\u001b[22m\u001b[39m to `C:\\Users\\Admin\\.julia\\environments\\v1.10\\Project.toml`\n",
      "\u001b[32m\u001b[1m  No Changes\u001b[22m\u001b[39m to `C:\\Users\\Admin\\.julia\\environments\\v1.10\\Manifest.toml`"
     ]
    },
    {
     "name": "stderr",
     "output_type": "stream",
     "text": [
      "\n"
     ]
    }
   ],
   "source": [
    "using Pkg; \n",
    "Pkg.add(\"ADNLPModels\");         using ADNLPModels;\n",
    "Pkg.add(\"JuMP\");                using JuMP;\n",
    "Pkg.add(\"Ipopt\");               using Ipopt;\n",
    "Pkg.add(\"MathOptInterface\") ;   using MathOptInterface;"
   ]
  },
  {
   "cell_type": "markdown",
   "metadata": {},
   "source": [
    "On résout ici un problème d'optimisation linéaire \n",
    "$$\n",
    "\\min_{x_1,x_2 \\in R^n} 100(x₂ - x₁²)² + (1 - x₁)²\n",
    "$$"
   ]
  },
  {
   "cell_type": "markdown",
   "metadata": {},
   "source": [
    "### Déclaration du modèle et des variables"
   ]
  },
  {
   "cell_type": "code",
   "execution_count": 15,
   "metadata": {},
   "outputs": [
    {
     "data": {
      "text/plain": [
       "2-element Vector{VariableRef}:\n",
       " x[1]\n",
       " x[2]"
      ]
     },
     "metadata": {},
     "output_type": "display_data"
    }
   ],
   "source": [
    "model = Model(Ipopt.Optimizer)\n",
    "@variable(model, x[i=1:2])"
   ]
  },
  {
   "cell_type": "markdown",
   "metadata": {},
   "source": [
    "#### La fonction objectif"
   ]
  },
  {
   "cell_type": "code",
   "execution_count": 16,
   "metadata": {},
   "outputs": [
    {
     "data": {
      "text/latex": [
       "$ {\\left({100.0} * {\\left({\\left(-x_{1}^2 + x_{2}\\right)} ^ {2.0}\\right)}\\right)} + {\\left(x_{1}^2 - 2 x_{1} + 1\\right)} $"
      ],
      "text/plain": [
       "(100.0 * ((-x[1]² + x[2]) ^ 2.0)) + (x[1]² - 2 x[1] + 1)"
      ]
     },
     "metadata": {},
     "output_type": "display_data"
    }
   ],
   "source": [
    "@objective(model, Min,  100*(x[2]-x[1]^2)^2+(1-x[1])^2)"
   ]
  },
  {
   "cell_type": "markdown",
   "metadata": {},
   "source": [
    "Pour résoudre ce problème, on peut utiliser la fonction `optimize`."
   ]
  },
  {
   "cell_type": "code",
   "execution_count": 17,
   "metadata": {},
   "outputs": [
    {
     "name": "stdout",
     "output_type": "stream",
     "text": [
      "This is Ipopt version 3.14.13, running with linear solver MUMPS 5.6.2.\n",
      "\n",
      "Number of nonzeros in equality constraint Jacobian...:        0\n",
      "Number of nonzeros in inequality constraint Jacobian.:        0\n",
      "Number of nonzeros in Lagrangian Hessian.............:        3\n",
      "\n",
      "Total number of variables............................:        2\n",
      "                     variables with only lower bounds:        0\n",
      "                variables with lower and upper bounds:        0\n",
      "                     variables with only upper bounds:        0\n",
      "Total number of equality constraints.................:        0\n",
      "Total number of inequality constraints...............:        0\n",
      "        inequality constraints with only lower bounds:        0\n",
      "   inequality constraints with lower and upper bounds:        0\n",
      "        inequality constraints with only upper bounds:        0\n",
      "\n",
      "iter    objective    inf_pr   inf_du lg(mu)  ||d||  lg(rg) alpha_du alpha_pr  ls\n",
      "   0  1.0000000e+00 0.00e+00 2.00e+00  -1.0 0.00e+00    -  0.00e+00 0.00e+00   0\n",
      "   1  9.5312500e-01 0.00e+00 1.25e+01  -1.0 1.00e+00    -  1.00e+00 2.50e-01f  3\n",
      "   2  4.8320569e-01 0.00e+00 1.01e+00  -1.0 9.03e-02    -  1.00e+00 1.00e+00f  1\n",
      "   3  4.5708829e-01 0.00e+00 9.53e+00  -1.0 4.29e-01    -  1.00e+00 5.00e-01f  2\n",
      "   4  1.8894205e-01 0.00e+00 4.15e-01  -1.0 9.51e-02    -  1.00e+00 1.00e+00f  1\n",
      "   5  1.3918726e-01 0.00e+00 6.51e+00  -1.7 3.49e-01    -  1.00e+00 5.00e-01f  2\n",
      "   6  5.4940990e-02 0.00e+00 4.51e-01  -1.7 9.29e-02    -  1.00e+00 1.00e+00f  1\n",
      "   7  2.9144630e-02 0.00e+00 2.27e+00  -1.7 2.49e-01    -  1.00e+00 5.00e-01f  2\n",
      "   8  9.8586451e-03 0.00e+00 1.15e+00  -1.7 1.10e-01    -  1.00e+00 1.00e+00f  1\n",
      "   9  2.3237475e-03 0.00e+00 1.00e+00  -1.7 1.00e-01    -  1.00e+00 1.00e+00f  1\n",
      "iter    objective    inf_pr   inf_du lg(mu)  ||d||  lg(rg) alpha_du alpha_pr  ls\n",
      "  10  2.3797236e-04 0.00e+00 2.19e-01  -1.7 5.09e-02    -  1.00e+00 1.00e+00f  1\n",
      "  11  4.9267371e-06 0.00e+00 5.95e-02  -1.7 2.53e-02    -  1.00e+00 1.00e+00f  1\n",
      "  12  2.8189506e-09 0.00e+00 8.31e-04  -2.5 3.20e-03    -  1.00e+00 1.00e+00f  1\n",
      "  13  9.6379884e-16 0.00e+00 8.68e-07  -5.7 9.78e-05    -  1.00e+00 1.00e+00f  1\n",
      "  14  1.9721523e-29 0.00e+00 1.57e-13  -8.6 4.65e-08    -  1.00e+00 1.00e+00f  1\n",
      "\n",
      "Number of Iterations....: 14\n",
      "\n",
      "                                   (scaled)                 (unscaled)\n",
      "Objective...............:   1.9721522630525295e-29    1.9721522630525295e-29\n",
      "Dual infeasibility......:   1.5720758028692217e-13    1.5720758028692217e-13\n",
      "Constraint violation....:   0.0000000000000000e+00    0.0000000000000000e+00\n",
      "Variable bound violation:   0.0000000000000000e+00    0.0000000000000000e+00\n",
      "Complementarity.........:   0.0000000000000000e+00    0.0000000000000000e+00\n",
      "Overall NLP error.......:   1.5720758028692217e-13    1.5720758028692217e-13\n",
      "\n",
      "\n",
      "Number of objective function evaluations             = 36\n",
      "Number of objective gradient evaluations             = 15\n",
      "Number of equality constraint evaluations            = 0\n",
      "Number of inequality constraint evaluations          = 0\n",
      "Number of equality constraint Jacobian evaluations   = 0\n",
      "Number of inequality constraint Jacobian evaluations = 0\n",
      "Number of Lagrangian Hessian evaluations             = 14\n",
      "Total seconds in IPOPT                               = 0.008\n",
      "\n",
      "EXIT: Optimal Solution Found.\n"
     ]
    }
   ],
   "source": [
    "optimize!(model)"
   ]
  },
  {
   "cell_type": "markdown",
   "metadata": {},
   "source": [
    "Comme solution on trouve :"
   ]
  },
  {
   "cell_type": "code",
   "execution_count": 18,
   "metadata": {},
   "outputs": [
    {
     "name": "stdout",
     "output_type": "stream",
     "text": [
      "x[1] = 0.9999999999999898\n",
      "x[2] = 0.9999999999999791\n",
      "f(x)= 1.9721522630525295e-29\n"
     ]
    }
   ],
   "source": [
    "println(\"x[1] = \", value(x[1]))\n",
    "println(\"x[2] = \", value(x[2]))\n",
    "println(\"f(x)= \", objective_value(model))"
   ]
  },
  {
   "cell_type": "markdown",
   "metadata": {},
   "source": [
    "On peut résoudre le même problème avec des contrainte.\n",
    "<br>\n",
    "En procède comme suit:  \n",
    "$$\n",
    "\\min_{x_1,x_2 \\in R^n} 100(x₂ - x₁²)² + (1 - x₁)² \\ \\text{sujet à} \\ 5\\leq x + y \\leq 7, 2 \\leq x,y \\leq 5.\n",
    "$$"
   ]
  },
  {
   "cell_type": "markdown",
   "metadata": {},
   "source": [
    "### Déclaration du modèle et des variables"
   ]
  },
  {
   "cell_type": "code",
   "execution_count": 19,
   "metadata": {},
   "outputs": [
    {
     "data": {
      "text/plain": [
       "2-element Vector{VariableRef}:\n",
       " x[1]\n",
       " x[2]"
      ]
     },
     "metadata": {},
     "output_type": "display_data"
    }
   ],
   "source": [
    "model = Model(Ipopt.Optimizer)\n",
    "@variable(model, 2<= x[i=1:2] <=5)"
   ]
  },
  {
   "cell_type": "markdown",
   "metadata": {},
   "source": [
    "### La contrainte "
   ]
  },
  {
   "cell_type": "code",
   "execution_count": 20,
   "metadata": {},
   "outputs": [
    {
     "data": {
      "text/latex": [
       "$$ x_{1} + x_{2} \\in [5, 7] $$"
      ],
      "text/plain": [
       "x[1] + x[2] in [5, 7]"
      ]
     },
     "metadata": {},
     "output_type": "display_data"
    }
   ],
   "source": [
    "@constraint(model, 5<= sum(x[i] for i in 1:2) <= 7)"
   ]
  },
  {
   "cell_type": "markdown",
   "metadata": {},
   "source": [
    "#### La fonction objectif"
   ]
  },
  {
   "cell_type": "code",
   "execution_count": 21,
   "metadata": {},
   "outputs": [
    {
     "data": {
      "text/latex": [
       "$ {\\left({100.0} * {\\left({\\left(-x_{1}^2 + x_{2}\\right)} ^ {2.0}\\right)}\\right)} + {\\left(x_{1}^2 - 2 x_{1} + 1\\right)} $"
      ],
      "text/plain": [
       "(100.0 * ((-x[1]² + x[2]) ^ 2.0)) + (x[1]² - 2 x[1] + 1)"
      ]
     },
     "metadata": {},
     "output_type": "display_data"
    }
   ],
   "source": [
    "@objective(model, Min,  100*(x[2]-x[1]^2)^2+(1-x[1])^2)"
   ]
  },
  {
   "cell_type": "markdown",
   "metadata": {},
   "source": [
    "Pour résoudre ce problème, on peut utiliser la fonction `optimize`."
   ]
  },
  {
   "cell_type": "code",
   "execution_count": 22,
   "metadata": {},
   "outputs": [
    {
     "name": "stdout",
     "output_type": "stream",
     "text": [
      "This is Ipopt version 3.14.13, running with linear solver MUMPS 5.6.2.\n",
      "\n",
      "Number of nonzeros in equality constraint Jacobian...:        0\n",
      "Number of nonzeros in inequality constraint Jacobian.:        2\n",
      "Number of nonzeros in Lagrangian Hessian.............:        3\n",
      "\n",
      "Total number of variables............................:        2\n",
      "                     variables with only lower bounds:        0\n",
      "                variables with lower and upper bounds:        2\n",
      "                     variables with only upper bounds:        0\n",
      "Total number of equality constraints.................:        0\n",
      "Total number of inequality constraints...............:        1\n",
      "        inequality constraints with only lower bounds:        0\n",
      "   inequality constraints with lower and upper bounds:        1\n",
      "        inequality constraints with only upper bounds:        0\n",
      "\n",
      "iter    objective    inf_pr   inf_du lg(mu)  ||d||  lg(rg) alpha_du alpha_pr  ls\n",
      "   0  4.2556519e+02 9.60e-01 7.79e+01  -1.0 0.00e+00    -  0.00e+00 0.00e+00   0\n",
      "   1  3.9707854e+02 9.25e-01 7.39e+01  -1.0 7.51e-01    -  2.95e-02 5.59e-02f  1\n",
      "   2  3.3258197e+02 8.20e-01 6.40e+01  -1.0 1.11e+00    -  2.16e-01 1.06e-01f  1\n",
      "   3  2.3705343e+01 0.00e+00 3.58e+01  -1.0 2.38e+00    -  7.93e-02 1.00e+00f  1\n",
      "   4  1.2249639e+00 0.00e+00 8.83e-01  -1.0 1.98e-01    -  5.17e-01 1.00e+00f  1\n",
      "   5  1.1758385e+00 0.00e+00 1.65e-03  -1.7 1.58e-02    -  1.00e+00 1.00e+00f  1\n",
      "   6  1.1206961e+00 0.00e+00 6.86e-03  -3.8 1.29e-01    -  8.22e-01 1.00e+00f  1\n",
      "   7  1.0011031e+00 0.00e+00 1.73e-01  -3.8 3.25e-01    -  8.40e-01 9.23e-01f  1\n",
      "   8  1.0026157e+00 0.00e+00 2.23e-05  -3.8 9.78e-03    -  1.00e+00 1.00e+00f  1\n",
      "   9  1.0000445e+00 0.00e+00 8.27e-05  -5.7 6.42e-03    -  1.00e+00 1.00e+00f  1\n",
      "iter    objective    inf_pr   inf_du lg(mu)  ||d||  lg(rg) alpha_du alpha_pr  ls\n",
      "  10  1.0000295e+00 0.00e+00 3.08e-09  -5.7 3.61e-05    -  1.00e+00 1.00e+00f  1\n",
      "  11  1.0000000e+00 0.00e+00 1.09e-08  -8.6 7.37e-05    -  1.00e+00 1.00e+00f  1\n",
      "  12  9.9999997e-01 0.00e+00 2.65e-15  -9.0 6.73e-08    -  1.00e+00 1.00e+00h  1\n",
      "\n",
      "Number of Iterations....: 12\n",
      "\n",
      "                                   (scaled)                 (unscaled)\n",
      "Objective...............:   6.2421970946544114e-02    9.9999997456363676e-01\n",
      "Dual infeasibility......:   2.6496669284026909e-15    4.2447664193011105e-14\n",
      "Constraint violation....:   0.0000000000000000e+00    0.0000000000000000e+00\n",
      "Variable bound violation:   1.2718181618964763e-08    1.2718181618964763e-08\n",
      "Complementarity.........:   9.0909102575400431e-10    1.4563638232579150e-08\n",
      "Overall NLP error.......:   9.0909102575400431e-10    1.4563638232579150e-08\n",
      "\n",
      "\n",
      "Number of objective function evaluations             = 13\n",
      "Number of objective gradient evaluations             = 13\n",
      "Number of equality constraint evaluations            = 0\n",
      "Number of inequality constraint evaluations          = 13\n",
      "Number of equality constraint Jacobian evaluations   = 0\n",
      "Number of inequality constraint Jacobian evaluations = 1\n",
      "Number of Lagrangian Hessian evaluations             = 12\n",
      "Total seconds in IPOPT                               = 0.008\n",
      "\n",
      "EXIT: Optimal Solution Found.\n"
     ]
    }
   ],
   "source": [
    "optimize!(model)"
   ]
  },
  {
   "cell_type": "markdown",
   "metadata": {},
   "source": [
    "Comme solution on trouve :"
   ]
  },
  {
   "cell_type": "code",
   "execution_count": 23,
   "metadata": {},
   "outputs": [
    {
     "name": "stdout",
     "output_type": "stream",
     "text": [
      "x[1] = 1.9999999872818184\n",
      "x[2] = 3.9999999490908644\n",
      "f(x)= 0.9999999745636368\n"
     ]
    }
   ],
   "source": [
    "println(\"x[1] = \", value(x[1]))\n",
    "println(\"x[2] = \", value(x[2]))\n",
    "println(\"f(x)= \", objective_value(model))"
   ]
  },
  {
   "cell_type": "markdown",
   "metadata": {},
   "source": [
    "- [ ] After reading `notebook_nlpmodels.ipynb`. Let's try to solve the 2d test problem `f(x₁,x₂) = 100(x₂ - x₁²)² + (1 - x₁)²` with these tools."
   ]
  },
  {
   "cell_type": "code",
   "execution_count": 24,
   "metadata": {},
   "outputs": [
    {
     "name": "stderr",
     "output_type": "stream",
     "text": [
      "\u001b[32m\u001b[1m  Activating\u001b[22m\u001b[39m project at `c:\\Users\\Admin\\Github\\MTH8408-Hiv24-1\\nlpmodels`\n",
      "\u001b[32m\u001b[1m   Resolving\u001b[22m\u001b[39m package versions...\n"
     ]
    },
    {
     "name": "stderr",
     "output_type": "stream",
     "text": [
      "\u001b[32m\u001b[1m  No Changes\u001b[22m\u001b[39m to `C:\\Users\\Admin\\Github\\MTH8408-Hiv24-1\\nlpmodels\\Project.toml`\n",
      "\u001b[32m\u001b[1m  No Changes\u001b[22m\u001b[39m to `C:\\Users\\Admin\\Github\\MTH8408-Hiv24-1\\nlpmodels\\Manifest.toml`"
     ]
    },
    {
     "name": "stderr",
     "output_type": "stream",
     "text": [
      "\n"
     ]
    },
    {
     "name": "stderr",
     "output_type": "stream",
     "text": [
      "\u001b[32m\u001b[1m   Resolving\u001b[22m\u001b[39m package versions...\n",
      "\u001b[32m\u001b[1m  No Changes\u001b[22m\u001b[39m to `C:\\Users\\Admin\\Github\\MTH8408-Hiv24-1\\nlpmodels\\Project.toml`\n",
      "\u001b[32m\u001b[1m  No Changes\u001b[22m\u001b[39m to `C:\\Users\\Admin\\Github\\MTH8408-Hiv24-1\\nlpmodels\\Manifest.toml`"
     ]
    },
    {
     "name": "stderr",
     "output_type": "stream",
     "text": [
      "\n"
     ]
    },
    {
     "name": "stderr",
     "output_type": "stream",
     "text": [
      "\u001b[32m\u001b[1m   Resolving\u001b[22m\u001b[39m package versions..."
     ]
    },
    {
     "name": "stderr",
     "output_type": "stream",
     "text": [
      "\n",
      "\u001b[32m\u001b[1m  No Changes\u001b[22m\u001b[39m to `C:\\Users\\Admin\\Github\\MTH8408-Hiv24-1\\nlpmodels\\Project.toml`\n",
      "\u001b[32m\u001b[1m  No Changes\u001b[22m\u001b[39m to `C:\\Users\\Admin\\Github\\MTH8408-Hiv24-1\\nlpmodels\\Manifest.toml`\n"
     ]
    },
    {
     "name": "stderr",
     "output_type": "stream",
     "text": [
      "\u001b[32m\u001b[1m   Resolving\u001b[22m\u001b[39m package versions...\n"
     ]
    },
    {
     "name": "stderr",
     "output_type": "stream",
     "text": [
      "\u001b[32m\u001b[1m  No Changes\u001b[22m\u001b[39m to `C:\\Users\\Admin\\Github\\MTH8408-Hiv24-1\\nlpmodels\\Project.toml`\n",
      "\u001b[32m\u001b[1m  No Changes\u001b[22m\u001b[39m to `C:\\Users\\Admin\\Github\\MTH8408-Hiv24-1\\nlpmodels\\Manifest.toml`\n"
     ]
    },
    {
     "name": "stderr",
     "output_type": "stream",
     "text": [
      "\u001b[32m\u001b[1m   Resolving\u001b[22m\u001b[39m package versions...\n"
     ]
    },
    {
     "name": "stderr",
     "output_type": "stream",
     "text": [
      "\u001b[32m\u001b[1m  No Changes\u001b[22m\u001b[39m to `C:\\Users\\Admin\\Github\\MTH8408-Hiv24-1\\nlpmodels\\Project.toml`\n",
      "\u001b[32m\u001b[1m  No Changes\u001b[22m\u001b[39m to `C:\\Users\\Admin\\Github\\MTH8408-Hiv24-1\\nlpmodels\\Manifest.toml`"
     ]
    },
    {
     "name": "stderr",
     "output_type": "stream",
     "text": [
      "\n"
     ]
    }
   ],
   "source": [
    "Pkg.activate(\"nlpmodels\")\n",
    "Pkg.add(\"ADNLPModels\");     using ADNLPModels\n",
    "Pkg.add(\"NLPModels\");       using NLPModels\n",
    "Pkg.add(\"NLPModelsJuMP\");   using NLPModelsJuMP\n",
    "Pkg.add(\"NLPModelsIpopt\");  using NLPModelsIpopt\n",
    "Pkg.add(\"LinearAlgebra\");   using LinearAlgebra"
   ]
  },
  {
   "cell_type": "markdown",
   "metadata": {},
   "source": [
    "On résout cette fois-ci le même problème d'optimisation linéaire avec `NLPModels` en utilisqnt le package `NLPModelsIpopt`\n",
    "$$\n",
    "\\min_{x_1,x_2 \\in R^n} 100(x₂ - x₁²)² + (1 - x₁)²\n",
    "$$"
   ]
  },
  {
   "cell_type": "code",
   "execution_count": 25,
   "metadata": {},
   "outputs": [
    {
     "name": "stdout",
     "output_type": "stream",
     "text": [
      "This is Ipopt version 3.14.13, running with linear solver MUMPS 5.6.2.\n",
      "\n",
      "Number of nonzeros in equality constraint Jacobian...:        0\n",
      "Number of nonzeros in inequality constraint Jacobian.:        0\n",
      "Number of nonzeros in Lagrangian Hessian.............:        3\n",
      "\n",
      "Total number of variables............................:        2\n",
      "                     variables with only lower bounds:        0\n",
      "                variables with lower and upper bounds:        0\n",
      "                     variables with only upper bounds:        0\n",
      "Total number of equality constraints.................:        0\n",
      "Total number of inequality constraints...............:        0\n",
      "        inequality constraints with only lower bounds:        0\n",
      "   inequality constraints with lower and upper bounds:        0\n",
      "        inequality constraints with only upper bounds:        0\n",
      "\n",
      "iter    objective    inf_pr   inf_du lg(mu)  ||d||  lg(rg) alpha_du alpha_pr  ls\n",
      "   0  2.4200000e+01 0.00e+00 1.00e+02  -1.0 0.00e+00    -  0.00e+00 0.00e+00   0\n",
      "   1  4.7318843e+00 0.00e+00 2.15e+00  -1.0 3.81e-01    -  1.00e+00 1.00e+00f  1\n",
      "   2  4.0873987e+00 0.00e+00 1.20e+01  -1.0 4.56e+00    -  1.00e+00 1.25e-01f  4\n",
      "   3  3.2286726e+00 0.00e+00 4.94e+00  -1.0 2.21e-01    -  1.00e+00 1.00e+00f  1\n",
      "   4  3.2138981e+00 0.00e+00 1.02e+01  -1.0 4.82e-01    -  1.00e+00 1.00e+00f  1\n",
      "   5  1.9425854e+00 0.00e+00 1.62e+00  -1.0 6.70e-02    -  1.00e+00 1.00e+00f  1\n",
      "   6  1.6001937e+00 0.00e+00 3.44e+00  -1.0 7.35e-01    -  1.00e+00 2.50e-01f  3\n",
      "   7  1.1783896e+00 0.00e+00 1.92e+00  -1.0 1.44e-01    -  1.00e+00 1.00e+00f  1\n",
      "   8  9.2241158e-01 0.00e+00 4.00e+00  -1.0 2.08e-01    -  1.00e+00 1.00e+00f  1\n",
      "   9  5.9748862e-01 0.00e+00 7.36e-01  -1.0 8.91e-02    -  1.00e+00 1.00e+00f  1\n",
      "iter    objective    inf_pr   inf_du lg(mu)  ||d||  lg(rg) alpha_du alpha_pr  ls\n",
      "  10  4.5262510e-01 0.00e+00 2.42e+00  -1.7 2.97e-01    -  1.00e+00 5.00e-01f  2\n",
      "  11  2.8076244e-01 0.00e+00 9.25e-01  -1.7 1.02e-01    -  1.00e+00 1.00e+00f  1\n",
      "  12  2.1139340e-01 0.00e+00 3.34e+00  -1.7 1.77e-01    -  1.00e+00 1.00e+00f  1\n",
      "  13  8.9019501e-02 0.00e+00 2.25e-01  -1.7 9.45e-02    -  1.00e+00 1.00e+00f  1\n",
      "  14  5.1535405e-02 0.00e+00 1.49e+00  -1.7 2.84e-01    -  1.00e+00 5.00e-01f  2\n",
      "  15  1.9992778e-02 0.00e+00 4.64e-01  -1.7 1.09e-01    -  1.00e+00 1.00e+00f  1\n",
      "  16  7.1692436e-03 0.00e+00 1.03e+00  -1.7 1.39e-01    -  1.00e+00 1.00e+00f  1\n",
      "  17  1.0696137e-03 0.00e+00 9.09e-02  -1.7 5.50e-02    -  1.00e+00 1.00e+00f  1\n",
      "  18  7.7768464e-05 0.00e+00 1.44e-01  -2.5 5.53e-02    -  1.00e+00 1.00e+00f  1\n",
      "  19  2.8246695e-07 0.00e+00 1.50e-03  -2.5 7.31e-03    -  1.00e+00 1.00e+00f  1\n",
      "iter    objective    inf_pr   inf_du lg(mu)  ||d||  lg(rg) alpha_du alpha_pr  ls\n",
      "  20  8.5170750e-12 0.00e+00 4.90e-05  -5.7 1.05e-03    -  1.00e+00 1.00e+00f  1\n",
      "  21  3.7439756e-21 0.00e+00 1.73e-10  -5.7 2.49e-06    -  1.00e+00 1.00e+00f  1\n",
      "\n",
      "Number of Iterations....: 21\n",
      "\n",
      "                                   (scaled)                 (unscaled)\n",
      "Objective...............:   1.7365378678754519e-21    3.7439756431394737e-21\n",
      "Dual infeasibility......:   1.7312156654298279e-10    3.7325009746667082e-10\n",
      "Constraint violation....:   0.0000000000000000e+00    0.0000000000000000e+00\n",
      "Variable bound violation:   0.0000000000000000e+00    0.0000000000000000e+00\n",
      "Complementarity.........:   0.0000000000000000e+00    0.0000000000000000e+00\n",
      "Overall NLP error.......:   1.7312156654298279e-10    3.7325009746667082e-10\n",
      "\n",
      "\n",
      "Number of objective function evaluations             = 45\n",
      "Number of objective gradient evaluations             = 22\n",
      "Number of equality constraint evaluations            = 0\n",
      "Number of inequality constraint evaluations          = 0\n",
      "Number of equality constraint Jacobian evaluations   = 0\n",
      "Number of inequality constraint Jacobian evaluations = 0\n",
      "Number of Lagrangian Hessian evaluations             = 21\n",
      "Total seconds in IPOPT                               = 1.141\n",
      "\n",
      "EXIT: Optimal Solution Found.\n",
      "Generic Execution stats\n",
      "  status: first-order stationary\n",
      "  objective value: 3.743975643139474e-21\n",
      "  primal feasibility: 0.0\n",
      "  dual feasibility: 3.732500974666708e-10\n",
      "  solution: [0.9999999999400667  0.9999999998789006]\n",
      "  iterations: 21\n",
      "  elapsed time: 1.141\n",
      "  solver specific:\n",
      "    real_time: 1.1439998149871826\n"
     ]
    },
    {
     "name": "stdout",
     "output_type": "stream",
     "text": [
      "    internal_msg: :Solve_Succeeded\n"
     ]
    }
   ],
   "source": [
    "#Initialize the objective function, and an initial guess\n",
    "f(xx) = (xx[1] - 1)^2 + 100*(xx[2] - xx[1]^2)^2\n",
    "xx0 = [-1.2; 1.0]\n",
    "#Create an ADNLPModel\n",
    "nlp = ADNLPModel(f, xx0)\n",
    "stats = ipopt(nlp)\n",
    "print(stats)"
   ]
  },
  {
   "cell_type": "markdown",
   "metadata": {},
   "source": [
    "Comme solution on trouve :"
   ]
  },
  {
   "cell_type": "code",
   "execution_count": 29,
   "metadata": {},
   "outputs": [
    {
     "name": "stdout",
     "output_type": "stream",
     "text": [
      "xx[1] = 0.9999999999400667\n",
      "xx[2] = 0.9999999998789006\n",
      "f(xx)= 3.743975643139474e-21\n"
     ]
    }
   ],
   "source": [
    "xx = stats.solution\n",
    "println(\"xx[1] = \", xx[1])\n",
    "println(\"xx[2] = \", xx[2])\n",
    "println(\"f(xx)= \", f(xx))"
   ]
  },
  {
   "cell_type": "markdown",
   "metadata": {},
   "source": []
  }
 ],
 "metadata": {
  "kernelspec": {
   "display_name": "Julia 1.10.0",
   "language": "julia",
   "name": "julia-1.10"
  },
  "language_info": {
   "file_extension": ".jl",
   "mimetype": "application/julia",
   "name": "julia",
   "version": "1.10.0"
  }
 },
 "nbformat": 4,
 "nbformat_minor": 4
}
